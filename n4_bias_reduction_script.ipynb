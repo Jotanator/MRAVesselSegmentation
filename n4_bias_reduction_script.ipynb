{
  "nbformat": 4,
  "nbformat_minor": 0,
  "metadata": {
    "colab": {
      "provenance": []
    },
    "kernelspec": {
      "name": "python3",
      "display_name": "Python 3"
    },
    "language_info": {
      "name": "python"
    }
  },
  "cells": [
    {
      "cell_type": "code",
      "source": [
        "!pip install SimpleITK"
      ],
      "metadata": {
        "colab": {
          "base_uri": "https://localhost:8080/"
        },
        "id": "rAAlCFvnoCe5",
        "outputId": "4f319ba1-9411-4ee1-9c4c-ad0224dd0827"
      },
      "execution_count": 1,
      "outputs": [
        {
          "output_type": "stream",
          "name": "stdout",
          "text": [
            "Collecting SimpleITK\n",
            "  Downloading SimpleITK-2.3.1-cp310-cp310-manylinux_2_17_x86_64.manylinux2014_x86_64.whl (52.7 MB)\n",
            "\u001b[2K     \u001b[90m━━━━━━━━━━━━━━━━━━━━━━━━━━━━━━━━━━━━━━━━\u001b[0m \u001b[32m52.7/52.7 MB\u001b[0m \u001b[31m14.5 MB/s\u001b[0m eta \u001b[36m0:00:00\u001b[0m\n",
            "\u001b[?25hInstalling collected packages: SimpleITK\n",
            "Successfully installed SimpleITK-2.3.1\n"
          ]
        }
      ]
    },
    {
      "cell_type": "code",
      "execution_count": 2,
      "metadata": {
        "id": "W10iEKVtn0Ql"
      },
      "outputs": [],
      "source": [
        "import nibabel as nib\n",
        "import SimpleITK as sitk\n",
        "import glob\n",
        "import os"
      ]
    },
    {
      "cell_type": "code",
      "source": [
        "input_folder = \"path/to/input_folder\"\n",
        "output_folder = \"path/to/output_folder\""
      ],
      "metadata": {
        "id": "yHpa532xoNqB"
      },
      "execution_count": 4,
      "outputs": []
    },
    {
      "cell_type": "code",
      "source": [
        "def correct_image(nii_file_path, output_folder):\n",
        "    nii_image = nib.load(nii_file_path)\n",
        "    image_data = nii_image.get_fdata()\n",
        "    sitk_img = sitk.GetImageFromArray(image_data)\n",
        "\n",
        "\n",
        "    transformed = sitk.RescaleIntensity(sitk_img, 0, 255)\n",
        "    transformed = sitk.LiThreshold(sitk_img, 0, 1)\n",
        "    head_mask = transformed\n",
        "\n",
        "    shrinkFactor = 4\n",
        "    inputImage = sitk.Shrink(sitk_img, [shrinkFactor] * sitk_img.GetDimension())\n",
        "    maskImage = sitk.Shrink(head_mask, [shrinkFactor] * sitk_img.GetDimension())\n",
        "\n",
        "    bias_corrector = sitk.N4BiasFieldCorrectionImageFilter()\n",
        "    corrected_img = bias_corrector.Execute(inputImage, maskImage)\n",
        "\n",
        "\n",
        "    output_filename = os.path.join(output_folder, os.path.basename(nii_file_path).replace('.nii', '_after_n4_correction.nii'))\n",
        "\n",
        "\n",
        "    sitk.WriteImage(corrected_img, output_filename)"
      ],
      "metadata": {
        "id": "4krHCl-DoUC4"
      },
      "execution_count": 6,
      "outputs": []
    },
    {
      "cell_type": "code",
      "source": [
        "for nii_file_path in glob.glob(input_folder + '/*.nii'):\n",
        "    correct_image(nii_file_path, output_folder)"
      ],
      "metadata": {
        "id": "V4eTv9IVqZHL"
      },
      "execution_count": 5,
      "outputs": []
    }
  ]
}